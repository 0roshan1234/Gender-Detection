{
 "cells": [
  {
   "cell_type": "code",
   "execution_count": 17,
   "id": "e86f177f-7fa4-468a-9892-aa456fb00ae8",
   "metadata": {
    "tags": []
   },
   "outputs": [
    {
     "name": "stdout",
     "output_type": "stream",
     "text": [
      "Requirement already satisfied: opencv-python in c:\\users\\rosha\\anaconda3\\lib\\site-packages (4.9.0.80)\n",
      "Requirement already satisfied: numpy>=1.21.2 in c:\\users\\rosha\\anaconda3\\lib\\site-packages (from opencv-python) (1.26.4)\n",
      "Requirement already satisfied: numpy in c:\\users\\rosha\\anaconda3\\lib\\site-packages (1.26.4)\n"
     ]
    }
   ],
   "source": [
    "!pip install opencv-python\n",
    "!pip install numpy\n",
    "import cv2 as cv\n",
    "import numpy as np"
   ]
  },
  {
   "cell_type": "code",
   "execution_count": 18,
   "id": "4441acbb-12ed-4ae8-b0b6-06b7379ab55b",
   "metadata": {
    "tags": []
   },
   "outputs": [],
   "source": [
    "# load pre trained and gender detection model\n",
    "face_model=cv.CascadeClassifier(cv.data.haarcascades + 'haarcascade_frontalface_default.xml')"
   ]
  },
  {
   "cell_type": "code",
   "execution_count": 19,
   "id": "35901068-4cdd-447d-8935-686f2c52f750",
   "metadata": {
    "tags": []
   },
   "outputs": [],
   "source": [
    "gender_model=cv.dnn.readNetFromCaffe('gender_deploy.prototxt','gender_net.caffemodel')"
   ]
  },
  {
   "cell_type": "code",
   "execution_count": 20,
   "id": "e59c7b7b-d579-4c06-b807-0d8f7ece7229",
   "metadata": {},
   "outputs": [],
   "source": [
    "# List of gender labels\n",
    "gender_list = ['Male', 'Female']\n",
    "\n",
    "# Initialize face detection model (face_model) and gender detection model (gender_model)\n",
    "\n",
    "def detect_gender(image):\n",
    "    # Convert image to grayscale\n",
    "    gray = cv.cvtColor(image, cv.COLOR_BGR2GRAY)\n",
    "    \n",
    "    # Detect faces in the image\n",
    "    faces = face_model.detectMultiScale(gray, 1.3, 5)\n",
    "    \n",
    "    for (x, y, w, h) in faces:\n",
    "        # Extract face region\n",
    "        face = image[y:y+h, x:x+w]\n",
    "        \n",
    "        # Preprocess face for gender detection\n",
    "        blob = cv.dnn.blobFromImage(face, 1.0, (227, 227), (78.4263377603, 87.7689143744, 114.895847746), swapRB=False)\n",
    "        \n",
    "        # Feed the blob through the gender detection model\n",
    "        gender_model.setInput(blob)\n",
    "        gender_preds = gender_model.forward()\n",
    "        \n",
    "        # Get the predicted gender\n",
    "        gender = gender_list[gender_preds[0].argmax()]\n",
    "        \n",
    "        # Draw rectangle around the face and label with gender\n",
    "        cv.rectangle(image, (x, y), (x+w, y+h), (255, 0, 0), 2)\n",
    "        cv.putText(image, gender, (x, y-10), cv.FONT_HERSHEY_SIMPLEX, 0.8, (255, 0, 0), 2, cv.LINE_AA)\n",
    "        \n",
    "    return image\n"
   ]
  },
  {
   "cell_type": "code",
   "execution_count": 21,
   "id": "f53c9e45-f874-44d9-8c07-03f650095cd5",
   "metadata": {
    "tags": []
   },
   "outputs": [],
   "source": [
    "input_image=cv.imread(r\"C:\\Users\\rosha\\OneDrive\\Pictures\\Camera Roll\\mans.jpg\")\n"
   ]
  },
  {
   "cell_type": "code",
   "execution_count": 22,
   "id": "f3fa19b8-068f-4777-afc1-72364d19a055",
   "metadata": {
    "tags": []
   },
   "outputs": [],
   "source": [
    "output_image = detect_gender(input_image)"
   ]
  },
  {
   "cell_type": "code",
   "execution_count": 23,
   "id": "8bcf3154-c13a-4aba-9ff9-10e6ce7de216",
   "metadata": {
    "tags": []
   },
   "outputs": [],
   "source": [
    "scale_percent =50\n",
    "# Adjust the percentage to resize as needed\n",
    "width = int(output_image.shape[1] * scale_percent / 100)\n",
    "height = int(output_image.shape[0] * scale_percent / 100)\n",
    "output_image_resized = cv.resize(output_image, (width, height), interpolation=cv.INTER_AREA)"
   ]
  },
  {
   "cell_type": "code",
   "execution_count": null,
   "id": "3bb4ecf8-64ba-486e-8210-6b5596248748",
   "metadata": {
    "tags": []
   },
   "outputs": [],
   "source": [
    "#output_image = input_image.copy()\n",
    "# Display the output image\n",
    "cv.imshow(\"Gender Detection\", output_image_resized)\n",
    "cv.waitKey(0)\n",
    "cv.destroyAllWindows()\n"
   ]
  },
  {
   "cell_type": "code",
   "execution_count": 1,
   "id": "dd77809e-e2e1-4362-bf1d-f2bf457cd465",
   "metadata": {},
   "outputs": [
    {
     "ename": "SyntaxError",
     "evalue": "(unicode error) 'unicodeescape' codec can't decode bytes in position 2-3: truncated \\UXXXXXXXX escape (2271973987.py, line 22)",
     "output_type": "error",
     "traceback": [
      "\u001b[1;36m  Cell \u001b[1;32mIn[1], line 22\u001b[1;36m\u001b[0m\n\u001b[1;33m    wav_file=\"C:\\Users\\student\\Downloads\\WhatsApp11.wav\"\u001b[0m\n\u001b[1;37m                                                        ^\u001b[0m\n\u001b[1;31mSyntaxError\u001b[0m\u001b[1;31m:\u001b[0m (unicode error) 'unicodeescape' codec can't decode bytes in position 2-3: truncated \\UXXXXXXXX escape\n"
     ]
    }
   ],
   "source": [
    "\n"
   ]
  },
  {
   "cell_type": "code",
   "execution_count": null,
   "id": "6a2984f7-1b7f-405a-a3d8-e309b348dfe4",
   "metadata": {},
   "outputs": [],
   "source": []
  },
  {
   "cell_type": "code",
   "execution_count": null,
   "id": "a018ddc7-aad5-4858-a7a8-a57d014e96e5",
   "metadata": {},
   "outputs": [],
   "source": []
  },
  {
   "cell_type": "code",
   "execution_count": null,
   "id": "d444adc8-dbd0-4adc-b3bb-0d41cd70a878",
   "metadata": {},
   "outputs": [],
   "source": []
  },
  {
   "cell_type": "code",
   "execution_count": null,
   "id": "8eb0c63f-6e99-472b-9caf-0151f52d20a5",
   "metadata": {},
   "outputs": [],
   "source": []
  },
  {
   "cell_type": "code",
   "execution_count": null,
   "id": "b89f8fad-ce75-4165-b5ec-ac1862c2e3b1",
   "metadata": {},
   "outputs": [],
   "source": []
  },
  {
   "cell_type": "code",
   "execution_count": null,
   "id": "55cec831-c1d0-4fb9-ac32-408671528133",
   "metadata": {},
   "outputs": [],
   "source": []
  },
  {
   "cell_type": "code",
   "execution_count": null,
   "id": "27d8e768-fbb7-43e4-b34d-b28dd757a5a4",
   "metadata": {},
   "outputs": [],
   "source": []
  }
 ],
 "metadata": {
  "kernelspec": {
   "display_name": "Python 3 (ipykernel)",
   "language": "python",
   "name": "python3"
  },
  "language_info": {
   "codemirror_mode": {
    "name": "ipython",
    "version": 3
   },
   "file_extension": ".py",
   "mimetype": "text/x-python",
   "name": "python",
   "nbconvert_exporter": "python",
   "pygments_lexer": "ipython3",
   "version": "3.11.7"
  }
 },
 "nbformat": 4,
 "nbformat_minor": 5
}
